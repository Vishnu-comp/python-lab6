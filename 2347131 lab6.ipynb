{
 "cells": [
  {
   "cell_type": "code",
   "execution_count": 3,
   "metadata": {},
   "outputs": [
    {
     "name": "stdout",
     "output_type": "stream",
     "text": [
      "All entries are valid\n"
     ]
    }
   ],
   "source": [
    "import re\n",
    "\n",
    "def validate_form(name, input_digit, email, dob, payment_option):\n",
    "    errors = []\n",
    "\n",
    "    # 1. Check if the name contains only alphabetic characters and a dot\n",
    "    if not re.match(r'^[A-Za-z. ]+$', name):\n",
    "        errors.append(\"Invalid name format\")\n",
    "\n",
    "    # 2. Check if the input_digit contains only digits\n",
    "    if not re.match(r'^\\d+$', input_digit):\n",
    "        errors.append(\"Invalid digit input\")\n",
    "\n",
    "    # 3. Check if the email is in a valid format\n",
    "    if not re.match(r'^[a-zA-Z0-9._%+-]+@[a-zA-Z0-9.-]+\\.[a-zA-Z]{2,}$', email):\n",
    "        errors.append(\"Invalid email format\")\n",
    "\n",
    "    # 4. Check if the dob is in a valid format (assuming YYYY-MM-DD)\n",
    "    if not re.match(r'^\\d{4}-\\d{2}-\\d{2}$', dob):\n",
    "        errors.append(\"Invalid date of birth format\")\n",
    "\n",
    "    # 5. Check if the payment_option is 'credit' or 'debit'\n",
    "    if payment_option not in ['credit', 'debit']:\n",
    "        errors.append(\"Invalid payment option\")\n",
    "\n",
    "    return errors\n",
    "\n",
    "# Test the function with sample inputs\n",
    "name = \"John Doe\"\n",
    "input_digit = \"12345\"\n",
    "email = \"johndoe@example.com\"\n",
    "dob = \"1990-01-01\"\n",
    "payment_option = \"credit\"\n",
    "\n",
    "errors = validate_form(name, input_digit, email, dob, payment_option)\n",
    "if not errors:\n",
    "    print(\"All entries are valid\")\n",
    "else:\n",
    "    print(\"Errors:\", errors)\n"
   ]
  },
  {
   "cell_type": "code",
   "execution_count": 7,
   "metadata": {},
   "outputs": [
    {
     "name": "stdout",
     "output_type": "stream",
     "text": [
      "5 valid entries received.\n"
     ]
    }
   ],
   "source": [
    "name = input(\"Enter Name seperated by \\\".\\\" \")\n",
    "reg_no =input(\"Enter Reg Number \")\n",
    "email = input(\"Enter Email ID  \")\n",
    "payment = input(\"Enter Payment Option: credit, debit, paypal\")\n",
    "phone = input(\"Enter Phone number \")\n",
    "dob = input(\"Enter Date Of Birth:YYYY-MM-DD   \")\n",
    "\n",
    "import re\n",
    "\n",
    "def validate_form(name, digit_input, email, dob, payment_option):\n",
    "    valid_entries = 0\n",
    "    \n",
    "    # Verify name (assuming only alphabetical characters and a dot are allowed)\n",
    "    if re.match(r'^[A-Za-z. ]+$', name):\n",
    "        valid_entries += 1\n",
    "    else:\n",
    "        print(\"Invalid name format\")\n",
    "\n",
    "    # Verify digit input (assuming only digits are allowed)\n",
    "    if re.match(r'^\\d+$', digit_input):\n",
    "        valid_entries += 1\n",
    "    else:\n",
    "        print(\"Invalid digit input\")\n",
    "\n",
    "    # Verify email\n",
    "    if re.match(r'^[a-zA-Z0-9._%+-]+@[a-zA-Z0-9.-]+\\.[a-zA-Z]{2,}$', email):\n",
    "        valid_entries += 1\n",
    "    else:\n",
    "        print(\"Invalid email format\")\n",
    "\n",
    "    # Verify date of birth (simple validation for example)\n",
    "    if re.match(r'^\\d{4}-\\d{2}-\\d{2}$', dob):\n",
    "        valid_entries += 1\n",
    "    else:\n",
    "        print(\"Invalid date of birth format\")\n",
    "\n",
    "    # Verify payment option (assuming specific options like 'credit', 'debit', 'paypal')\n",
    "    if payment_option.lower() in ['credit', 'debit', 'paypal']:\n",
    "        valid_entries += 1\n",
    "    else:\n",
    "        print(\"Invalid payment option\")\n",
    "\n",
    "    return valid_entries\n",
    "\n",
    "\n",
    "total_valid_entries = validate_form(name, reg_no, email, dob, payment)\n",
    "if total_valid_entries == 6:\n",
    "    print(\"All entries received correct input.\")\n",
    "else:\n",
    "    print(f\"{total_valid_entries} valid entries received.\")"
   ]
  }
 ],
 "metadata": {
  "kernelspec": {
   "display_name": "Python 3",
   "language": "python",
   "name": "python3"
  },
  "language_info": {
   "codemirror_mode": {
    "name": "ipython",
    "version": 3
   },
   "file_extension": ".py",
   "mimetype": "text/x-python",
   "name": "python",
   "nbconvert_exporter": "python",
   "pygments_lexer": "ipython3",
   "version": "3.11.1"
  },
  "orig_nbformat": 4
 },
 "nbformat": 4,
 "nbformat_minor": 2
}
